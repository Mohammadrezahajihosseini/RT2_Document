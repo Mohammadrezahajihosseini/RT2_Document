{
 "cells": [
  {
   "cell_type": "markdown",
   "id": "9e3b374c",
   "metadata": {},
   "source": [
    "# Library"
   ]
  },
  {
   "cell_type": "code",
   "execution_count": 2,
   "id": "4717e55c",
   "metadata": {
    "ExecuteTime": {
     "end_time": "2022-04-20T19:12:55.657621Z",
     "start_time": "2022-04-20T19:12:48.683316Z"
    }
   },
   "outputs": [],
   "source": [
    "#General Header \n",
    "import rospy\n",
    "import jupyros as jr \n",
    "import ipywidgets as widgets\n",
    "import sys\n",
    "import matplotlib.pyplot as plt                                                                     \n",
    "import numpy as np\n",
    "\n",
    "#Specific Header\n",
    "from std_srvs.srv import *                                                       \n",
    "from std_msgs.msg import String                                                   \n",
    "from ipywidgets import Button, Output, Layout, ButtonStyle, GridBox, VBox, HBox  \n",
    "from IPython.display import display                                              \n",
    "from jupyros import ros3d                                                        \n",
    "import os                                                                       \n",
    "from nav_msgs.msg import Odometry                                                \n",
    "from ipywidgets import interactive_output\n",
    "from geometry_msgs.msg import Twist\n",
    "#from rt2_assignment.srv import Command\n",
    "from sensor_msgs.msg import LaserScan\n",
    "from actionlib_msgs.msg import GoalStatusArray\n",
    "from matplotlib.animation import FuncAnimation\n",
    "from matplotlib.ticker import MaxNLocator"
   ]
  },
  {
   "cell_type": "markdown",
   "id": "a8fa4554",
   "metadata": {},
   "source": [
    "# ros node initiation"
   ]
  },
  {
   "cell_type": "code",
   "execution_count": 3,
   "id": "61aff32e",
   "metadata": {
    "ExecuteTime": {
     "end_time": "2022-04-20T19:13:35.953463Z",
     "start_time": "2022-04-20T19:13:30.962805Z"
    }
   },
   "outputs": [
    {
     "ename": "ROSException",
     "evalue": "rospy.init_node() has already been called with different arguments: ('jupyter_node', ['/home/barbod/.local/lib/python3.8/site-packages/ipykernel_launcher.py', '-f', '/home/barbod/.local/share/jupyter/runtime/kernel-65313b75-a4f2-48c3-9925-34972424ebff.json'], False, None, False, False)",
     "output_type": "error",
     "traceback": [
      "\u001b[0;31m---------------------------------------------------------------------------\u001b[0m",
      "\u001b[0;31mROSException\u001b[0m                              Traceback (most recent call last)",
      "Input \u001b[0;32mIn [3]\u001b[0m, in \u001b[0;36m<cell line: 2>\u001b[0;34m()\u001b[0m\n\u001b[1;32m      1\u001b[0m rospy\u001b[38;5;241m.\u001b[39minit_node(\u001b[38;5;124m'\u001b[39m\u001b[38;5;124mjupyter_node\u001b[39m\u001b[38;5;124m'\u001b[39m)                                                 \u001b[38;5;66;03m#link to 5°,6° section\u001b[39;00m\n\u001b[0;32m----> 2\u001b[0m \u001b[43mrospy\u001b[49m\u001b[38;5;241;43m.\u001b[39;49m\u001b[43minit_node\u001b[49m\u001b[43m(\u001b[49m\u001b[38;5;124;43m'\u001b[39;49m\u001b[38;5;124;43modom_visualizer_node\u001b[39;49m\u001b[38;5;124;43m'\u001b[39;49m\u001b[43m)\u001b[49m\n",
      "File \u001b[0;32m/opt/ros/noetic/lib/python3/dist-packages/rospy/client.py:274\u001b[0m, in \u001b[0;36minit_node\u001b[0;34m(name, argv, anonymous, log_level, disable_rostime, disable_rosout, disable_signals, xmlrpc_port, tcpros_port)\u001b[0m\n\u001b[1;32m    272\u001b[0m \u001b[38;5;28;01mif\u001b[39;00m _init_node_args:\n\u001b[1;32m    273\u001b[0m     \u001b[38;5;28;01mif\u001b[39;00m _init_node_args \u001b[38;5;241m!=\u001b[39m (name, argv, anonymous, log_level, disable_rostime, disable_signals):\n\u001b[0;32m--> 274\u001b[0m         \u001b[38;5;28;01mraise\u001b[39;00m rospy\u001b[38;5;241m.\u001b[39mexceptions\u001b[38;5;241m.\u001b[39mROSException(\u001b[38;5;124m\"\u001b[39m\u001b[38;5;124mrospy.init_node() has already been called with different arguments: \u001b[39m\u001b[38;5;124m\"\u001b[39m\u001b[38;5;241m+\u001b[39m\u001b[38;5;28mstr\u001b[39m(_init_node_args))\n\u001b[1;32m    275\u001b[0m     \u001b[38;5;28;01melse\u001b[39;00m:\n\u001b[1;32m    276\u001b[0m         \u001b[38;5;28;01mreturn\u001b[39;00m \u001b[38;5;66;03m#already initialized\u001b[39;00m\n",
      "\u001b[0;31mROSException\u001b[0m: rospy.init_node() has already been called with different arguments: ('jupyter_node', ['/home/barbod/.local/lib/python3.8/site-packages/ipykernel_launcher.py', '-f', '/home/barbod/.local/share/jupyter/runtime/kernel-65313b75-a4f2-48c3-9925-34972424ebff.json'], False, None, False, False)"
     ]
    }
   ],
   "source": [
    "rospy.init_node('jupyter_node')                                                 #link to 5°,6° section\n",
    "rospy.init_node('odom_visualizer_node')                                         #link to 8° section"
   ]
  },
  {
   "cell_type": "markdown",
   "id": "a3f37243",
   "metadata": {},
   "source": [
    "# Robot Behaivore "
   ]
  },
  {
   "cell_type": "code",
   "execution_count": 4,
   "id": "d171d18b",
   "metadata": {
    "ExecuteTime": {
     "end_time": "2022-04-20T19:13:40.833533Z",
     "start_time": "2022-04-20T19:13:40.768186Z"
    }
   },
   "outputs": [
    {
     "data": {
      "application/vnd.jupyter.widget-view+json": {
       "model_id": "398ffdfa366247c2affa2d59faa0fdec",
       "version_major": 2,
       "version_minor": 0
      },
      "text/plain": [
       "RadioButtons(description='Choose robot behavior:', options=('1.Entere coordinates', '2.Driving with keyboards'…"
      ]
     },
     "metadata": {},
     "output_type": "display_data"
    }
   ],
   "source": [
    "RB = widgets.RadioButtons(\n",
    "    options=['1.Entere coordinates','2.Driving with keyboards',\n",
    "             '3.Driving & avoid obstacles' ],\n",
    "#    value='Entere coordinates', # Defaults to 'Entere coordinates'\n",
    "#    layout={'width': 'max-content'}, # If the items' names are long\n",
    "    description='Choose robot behavior:',\n",
    "    disabled=False\n",
    ")\n",
    "display(RB)"
   ]
  },
  {
   "cell_type": "markdown",
   "id": "931bfa9a",
   "metadata": {},
   "source": [
    "# Change State of Robot"
   ]
  },
  {
   "cell_type": "code",
   "execution_count": 5,
   "id": "9dc57d7a",
   "metadata": {
    "ExecuteTime": {
     "end_time": "2022-04-20T19:13:46.130744Z",
     "start_time": "2022-04-20T19:13:46.124129Z"
    }
   },
   "outputs": [
    {
     "name": "stdout",
     "output_type": "stream",
     "text": [
      "robot behaviour changed to: \n",
      "2.Driving with keyboards\n"
     ]
    }
   ],
   "source": [
    "if RB.value == '1.Entere coordinates':\n",
    "    rospy.set_param('robot_state', '1')\n",
    "elif RB.value == '2.Driving with keyboards':\n",
    "    rospy.set_param('robot_state', '2')\n",
    "elif RB.value == '3.Driving & avoid obstacles':\n",
    "    rospy.set_param('robot_state', '3')\n",
    "print(\"robot behaviour changed to: \")\n",
    "print(RB.value)"
   ]
  },
  {
   "cell_type": "markdown",
   "id": "28253a35",
   "metadata": {},
   "source": [
    "# Insert Goal "
   ]
  },
  {
   "cell_type": "code",
   "execution_count": null,
   "id": "fd11843d",
   "metadata": {
    "ExecuteTime": {
     "end_time": "2022-04-20T18:33:57.324456Z",
     "start_time": "2022-04-20T18:33:57.324435Z"
    }
   },
   "outputs": [],
   "source": [
    "print(\"Insert coordinate in format x,y:\\n\")\n",
    "jr.publish('/movebase_client_goal', String)"
   ]
  },
  {
   "cell_type": "markdown",
   "id": "f6e33004",
   "metadata": {},
   "source": [
    "# Driving with keyboards"
   ]
  },
  {
   "cell_type": "code",
   "execution_count": 20,
   "id": "f4a2bdc5",
   "metadata": {
    "ExecuteTime": {
     "end_time": "2022-04-20T19:28:05.003889Z",
     "start_time": "2022-04-20T19:28:03.761567Z"
    }
   },
   "outputs": [
    {
     "name": "stdout",
     "output_type": "stream",
     "text": [
      "input direction:\n"
     ]
    },
    {
     "data": {
      "application/vnd.jupyter.widget-view+json": {
       "model_id": "a1a7b13f3966428f8d7d695b1fedb418",
       "version_major": 2,
       "version_minor": 0
      },
      "text/plain": [
       "HBox(children=(VBox(children=(Button(description='u', layout=Layout(grid_area='in1', width='auto'), style=Butt…"
      ]
     },
     "metadata": {},
     "output_type": "display_data"
    }
   ],
   "source": [
    "in1 = Button(description='u',layout=Layout(width='auto', grid_area='in1'),style=ButtonStyle(button_color='olive'))\n",
    "out1 = Output()\n",
    "in2 = Button(description='j',layout=Layout(width='auto', grid_area='in2'),style=ButtonStyle(button_color='olive'))\n",
    "out2 = Output()\n",
    "in3 = Button(description='m',layout=Layout(width='auto', grid_area='in3'),style=ButtonStyle(button_color='olive'))\n",
    "out3 = Output()\n",
    "in4 = Button(description='i',layout=Layout(width='auto', grid_area='in4'),style=ButtonStyle(button_color='olive'))\n",
    "out4 = Output()\n",
    "in5 = Button(description='k',layout=Layout(width='auto', grid_area='in5'),style=ButtonStyle(button_color='olive'))\n",
    "out5 = Output()\n",
    "in6 = Button(description=',',layout=Layout(width='auto', grid_area='in6'),style=ButtonStyle(button_color='olive'))\n",
    "out6 = Output()\n",
    "in7 = Button(description='o',layout=Layout(width='auto', grid_area='in7'),style=ButtonStyle(button_color='olive'))\n",
    "out7 = Output()\n",
    "in8 = Button(description='l',layout=Layout(width='auto', grid_area='in8'),style=ButtonStyle(button_color='olive'))\n",
    "out8 = Output()\n",
    "in9 = Button(description='.',layout=Layout(width='auto', grid_area='in9'),style=ButtonStyle(button_color='olive'))\n",
    "out9 = Output()\n",
    "\n",
    "def on_button_clicked1(in1):\n",
    "    with out1:\n",
    "        pub.publish('u')\n",
    "def on_button_clicked2(in2):\n",
    "    with out2:\n",
    "        pub.publish('j')\n",
    "def on_button_clicked3(in3):\n",
    "    with out3:\n",
    "        pub.publish('m')\n",
    "def on_button_clicked4(in4):\n",
    "    with out4:\n",
    "        pub.publish('i')\n",
    "def on_button_clicked5(in5):\n",
    "    with out5:\n",
    "        pub.publish('k')\n",
    "def on_button_clicked6(in6):\n",
    "    with out6:\n",
    "        pub.publish(',')\n",
    "def on_button_clicked7(in7):\n",
    "    with out7:\n",
    "        pub.publish('o')\n",
    "def on_button_clicked8(in8):\n",
    "    with out8:\n",
    "        pub.publish('l')\n",
    "def on_button_clicked9(in9):\n",
    "    with out9:\n",
    "        pub.publish('.')\n",
    "        \n",
    "in1.on_click(on_button_clicked1)\n",
    "in2.on_click(on_button_clicked2)\n",
    "in3.on_click(on_button_clicked3)\n",
    "in4.on_click(on_button_clicked4)\n",
    "in5.on_click(on_button_clicked5)\n",
    "in6.on_click(on_button_clicked6)\n",
    "in7.on_click(on_button_clicked7)\n",
    "in8.on_click(on_button_clicked8)\n",
    "in9.on_click(on_button_clicked9)\n",
    "\n",
    "pub = rospy.Publisher('/teleop_input_key', String, queue_size=10)\n",
    "print(\"input direction:\")\n",
    "HBox([VBox([in1, in2, in3]),VBox([in4, in5, in6]),VBox([in7, in8, in9])])\n"
   ]
  },
  {
   "cell_type": "code",
   "execution_count": 19,
   "id": "40818515",
   "metadata": {
    "ExecuteTime": {
     "end_time": "2022-04-20T19:27:33.297302Z",
     "start_time": "2022-04-20T19:27:32.420835Z"
    }
   },
   "outputs": [
    {
     "name": "stdout",
     "output_type": "stream",
     "text": [
      "q/z increase/decrease max speeds by 10%\n",
      "w/x increase/decrease only linear speed by 10%\n",
      "e/c increase/decrease only angular speed by 10%\n"
     ]
    },
    {
     "data": {
      "application/vnd.jupyter.widget-view+json": {
       "model_id": "6109a2d0c3a0489a906a8aa894719dcf",
       "version_major": 2,
       "version_minor": 0
      },
      "text/plain": [
       "HBox(children=(VBox(children=(Button(description='q', layout=Layout(grid_area='in10', width='auto'), style=But…"
      ]
     },
     "metadata": {},
     "output_type": "display_data"
    }
   ],
   "source": [
    "in10 = Button(description='q',layout=Layout(width='auto', grid_area='in10'),style=ButtonStyle(button_color='green'))\n",
    "out10 = Output()\n",
    "in11 = Button(description='z',layout=Layout(width='auto', grid_area='in11'),style=ButtonStyle(button_color='red'))\n",
    "out11 = Output()\n",
    "in12 = Button(description='w',layout=Layout(width='auto', grid_area='in12'),style=ButtonStyle(button_color='green'))\n",
    "out12 = Output()\n",
    "in13 = Button(description='x',layout=Layout(width='auto', grid_area='in13'),style=ButtonStyle(button_color='red'))\n",
    "out13 = Output()\n",
    "in14 = Button(description='e',layout=Layout(width='auto', grid_area='in14'),style=ButtonStyle(button_color='green'))\n",
    "out14 = Output()\n",
    "in15 = Button(description='c',layout=Layout(width='auto', grid_area='in15'),style=ButtonStyle(button_color='red'))\n",
    "out15 = Output()\n",
    "\n",
    "def on_button_clicked10(in10):\n",
    "    with out10:\n",
    "        pub.publish('q')\n",
    "def on_button_clicked11(in11):\n",
    "    with out11:\n",
    "        pub.publish('z')\n",
    "def on_button_clicked12(in12):\n",
    "    with out12:\n",
    "        pub.publish('w')\n",
    "def on_button_clicked13(in13):\n",
    "    with out13:\n",
    "        pub.publish('x')\n",
    "def on_button_clicked14(in14):\n",
    "    with out14:\n",
    "        pub.publish('e')\n",
    "def on_button_clicked15(in15):\n",
    "    with out15:\n",
    "        pub.publish('c')\n",
    "\n",
    "in10.on_click(on_button_clicked10)\n",
    "in11.on_click(on_button_clicked11)\n",
    "in12.on_click(on_button_clicked12)\n",
    "in13.on_click(on_button_clicked13)\n",
    "in14.on_click(on_button_clicked14)\n",
    "in15.on_click(on_button_clicked15)\n",
    "\n",
    "pub = rospy.Publisher('/teleop_input_key', String, queue_size=10)\n",
    "print(\"q/z increase/decrease max speeds by 10%\")\n",
    "print(\"w/x increase/decrease only linear speed by 10%\")\n",
    "print(\"e/c increase/decrease only angular speed by 10%\")\n",
    "HBox([VBox([in10, in11]),VBox([in12, in13]),VBox([in14, in15])])\n",
    "\n",
    "#jr.publish('/cmd_vel',Twist)"
   ]
  },
  {
   "cell_type": "markdown",
   "id": "62c85cf8",
   "metadata": {},
   "source": [
    "# 3D Viewer"
   ]
  },
  {
   "cell_type": "code",
   "execution_count": 7,
   "id": "7b5d095d",
   "metadata": {
    "ExecuteTime": {
     "end_time": "2022-04-20T15:36:18.923367Z",
     "start_time": "2022-04-20T15:36:18.698372Z"
    }
   },
   "outputs": [
    {
     "data": {
      "application/vnd.jupyter.widget-view+json": {
       "model_id": "319e295973a0417c899a9cad2cd91d90",
       "version_major": 2,
       "version_minor": 0
      },
      "text/plain": [
       "Viewer(objects=[GridModel(), LaserScan(ros=ROSConnection(url='ws://localhost:9090'), tf_client=TFClient(fixed_…"
      ]
     },
     "metadata": {},
     "output_type": "display_data"
    }
   ],
   "source": [
    "v = ros3d.Viewer()\n",
    "rc = ros3d.ROSConnection(url=\"ws://localhost:9090\")\n",
    "tf_client = ros3d.TFClient(ros=rc, fixed_frame='map')\n",
    "laser_view = ros3d.LaserScan(topic=\"/scan\", ros=rc, tf_client=tf_client)\n",
    "map_view = ros3d.OccupancyGrid(topic=\"/map\", ros=rc, tf_client=tf_client)\n",
    "path = ros3d.Path(topic=\"/move_base/NavfnROS/plan\", ros=rc,\n",
    "tf_client=tf_client)\n",
    "urdf = ros3d.URDFModel(ros=rc, tf_client=tf_client,\n",
    "path=os.environ.get('JUPYROS_ASSETS_URL', 'http://localhost:3000'))\n",
    "g = ros3d.GridModel()\n",
    "v.objects = [g, laser_view, map_view, path, urdf]\n",
    "v"
   ]
  },
  {
   "cell_type": "markdown",
   "id": "4aed4c9a",
   "metadata": {},
   "source": [
    "# 2D plot patch follow"
   ]
  },
  {
   "cell_type": "code",
   "execution_count": 5,
   "id": "7fc8d946",
   "metadata": {
    "ExecuteTime": {
     "end_time": "2022-04-20T17:26:37.319083Z",
     "start_time": "2022-04-20T17:26:36.177568Z"
    }
   },
   "outputs": [
    {
     "data": {
      "text/plain": [
       "Text(0, 0.5, 'y')"
      ]
     },
     "execution_count": 5,
     "metadata": {},
     "output_type": "execute_result"
    },
    {
     "data": {
      "application/vnd.jupyter.widget-view+json": {
       "model_id": "5653708bc83748e7b981b4da950e1c4e",
       "version_major": 2,
       "version_minor": 0
      },
      "image/png": "[encoded data removed]",
      "text/html": [
       "\n",
       "            <div style=\"display: inline-block;\">\n",
       "                <div class=\"jupyter-widgets widget-label\" style=\"text-align: center;\">\n",
       "                    Figure\n",
       "                </div>\n",
       "                <img src='data:image/png;base64,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' width=640.0/>\n",
       "            </div>\n",
       "        "
      ],
      "text/plain": [
       "Canvas(toolbar=Toolbar(toolitems=[('Home', 'Reset original view', 'home', 'home'), ('Back', 'Back to previous …"
      ]
     },
     "metadata": {},
     "output_type": "display_data"
    }
   ],
   "source": [
    "%matplotlib widget\n",
    "x_data=[]\n",
    "y_data=[]\n",
    "fig = plt.figure()\n",
    "ax = fig.add_axes([0,0,1,1])\n",
    "line, = ax.plot([], [], 'ro')\n",
    "ax.set_xlim(( -20, 20))\n",
    "ax.set_ylim((-20, 20))\n",
    "ax.set_title(\"my_robot\")\n",
    "ax.set_xlabel(\"x\")\n",
    "ax.set_ylabel(\"y\")"
   ]
  },
  {
   "cell_type": "code",
   "execution_count": 6,
   "id": "9dcd1519",
   "metadata": {
    "ExecuteTime": {
     "end_time": "2022-04-20T17:26:48.008976Z",
     "start_time": "2022-04-20T17:26:47.601346Z"
    }
   },
   "outputs": [],
   "source": [
    "def odom_callback(msg):\n",
    "    global x_data, y_data\n",
    "    y_data.append(msg.pose.pose.position.y)\n",
    "    x_data.append(msg.pose.pose.position.x)\n",
    "        \n",
    "jr.subscribe('/odom', Odometry, odom_callback)\n",
    "\n",
    "button = widgets.Button(description=\"Click Me!\")\n",
    "output = widgets.Output()"
   ]
  },
  {
   "cell_type": "code",
   "execution_count": 7,
   "id": "615a740a",
   "metadata": {
    "ExecuteTime": {
     "end_time": "2022-04-20T17:26:56.110853Z",
     "start_time": "2022-04-20T17:26:56.066546Z"
    }
   },
   "outputs": [
    {
     "name": "stdout",
     "output_type": "stream",
     "text": [
      "Every time click on the button the path is updated\n"
     ]
    },
    {
     "data": {
      "application/vnd.jupyter.widget-view+json": {
       "model_id": "1b0a9fcf842048bdb442ed485cc586c9",
       "version_major": 2,
       "version_minor": 0
      },
      "text/plain": [
       "Button(description='Click Me!', style=ButtonStyle())"
      ]
     },
     "metadata": {},
     "output_type": "display_data"
    },
    {
     "data": {
      "application/vnd.jupyter.widget-view+json": {
       "model_id": "de21b06209d7484ab6edda6034afc06e",
       "version_major": 2,
       "version_minor": 0
      },
      "text/plain": [
       "Output()"
      ]
     },
     "metadata": {},
     "output_type": "display_data"
    }
   ],
   "source": [
    "print('Every time click on the button the path is updated')\n",
    "display(button, output)\n",
    "#handle changes, the observe method of the widget can be used to register a callback.\n",
    "def on_button_clicked(b):\n",
    "    np_x_plot = np.array(x_data)\n",
    "    np_y_plot = np.array(y_data)\n",
    "    fig = plt.cla()\n",
    "    ax.set_xlim(( -20, 20))\n",
    "    ax.set_ylim((-20, 20))\n",
    "    ax.plot(np_x_plot,np_y_plot)"
   ]
  },
  {
   "cell_type": "code",
   "execution_count": 26,
   "id": "925401ac",
   "metadata": {
    "ExecuteTime": {
     "end_time": "2022-04-20T19:30:24.792366Z",
     "start_time": "2022-04-20T19:30:24.634543Z"
    },
    "scrolled": false
   },
   "outputs": [
    {
     "data": {
      "application/vnd.jupyter.widget-view+json": {
       "model_id": "fb78e1957c7549e682e47310e62e54c2",
       "version_major": 2,
       "version_minor": 0
      },
      "text/plain": [
       "VBox(children=(HBox(children=(Button(description='Stop', style=ButtonStyle()),)), Output(layout=Layout(border=…"
      ]
     },
     "metadata": {},
     "output_type": "display_data"
    }
   ],
   "source": [
    "from sensor_msgs.msg import LaserScan\n",
    "jr.subscribe('/scan',String ,lambda msg: print(msg))"
   ]
  },
  {
   "cell_type": "code",
   "execution_count": null,
   "id": "60376b0d",
   "metadata": {},
   "outputs": [],
   "source": []
  },
  {
   "cell_type": "code",
   "execution_count": null,
   "id": "f41032ee",
   "metadata": {},
   "outputs": [],
   "source": []
  }
 ],
 "metadata": {
  "hide_input": false,
  "kernelspec": {
   "display_name": "Python 3 (ipykernel)",
   "language": "python",
   "name": "python3"
  },
  "language_info": {
   "codemirror_mode": {
    "name": "ipython",
    "version": 3
   },
   "file_extension": ".py",
   "mimetype": "text/x-python",
   "name": "python",
   "nbconvert_exporter": "python",
   "pygments_lexer": "ipython3",
   "version": "3.8.10"
  },
  "toc": {
   "base_numbering": 1,
   "nav_menu": {},
   "number_sections": true,
   "sideBar": true,
   "skip_h1_title": false,
   "title_cell": "Table of Contents",
   "title_sidebar": "Contents",
   "toc_cell": false,
   "toc_position": {},
   "toc_section_display": true,
   "toc_window_display": false
  },
  "varInspector": {
   "cols": {
    "lenName": 16,
    "lenType": 16,
    "lenVar": 40
   },
   "kernels_config": {
    "python": {
     "delete_cmd_postfix": "",
     "delete_cmd_prefix": "del ",
     "library": "var_list.py",
     "varRefreshCmd": "print(var_dic_list())"
    },
    "r": {
     "delete_cmd_postfix": ") ",
     "delete_cmd_prefix": "rm(",
     "library": "var_list.r",
     "varRefreshCmd": "cat(var_dic_list()) "
    }
   },
   "types_to_exclude": [
    "module",
    "function",
    "builtin_function_or_method",
    "instance",
    "_Feature"
   ],
   "window_display": false
  }
 },
 "nbformat": 4,
 "nbformat_minor": 5
}
